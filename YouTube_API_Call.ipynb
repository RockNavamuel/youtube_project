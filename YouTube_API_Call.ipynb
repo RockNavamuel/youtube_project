{
  "nbformat": 4,
  "nbformat_minor": 0,
  "metadata": {
    "colab": {
      "provenance": [],
      "authorship_tag": "ABX9TyN8hUxanwJSXhq0dH4ufHxE",
      "include_colab_link": true
    },
    "kernelspec": {
      "name": "python3",
      "display_name": "Python 3"
    },
    "language_info": {
      "name": "python"
    }
  },
  "cells": [
    {
      "cell_type": "markdown",
      "metadata": {
        "id": "view-in-github",
        "colab_type": "text"
      },
      "source": [
        "<a href=\"https://colab.research.google.com/github/RockNavamuel/youtube_project/blob/main/YouTube_API_Call.ipynb\" target=\"_parent\"><img src=\"https://colab.research.google.com/assets/colab-badge.svg\" alt=\"Open In Colab\"/></a>"
      ]
    },
    {
      "cell_type": "code",
      "execution_count": null,
      "metadata": {
        "id": "_HgVnK-tHuES"
      },
      "outputs": [],
      "source": [
        "# Import libraries\n",
        "import pandas as pd\n",
        "import time\n",
        "import requests"
      ]
    },
    {
      "cell_type": "code",
      "source": [
        "# Keys\n",
        "API_KEY = \"your_api_key\"\n",
        "CHANNEL_ID = \"UC_q5WZtFp36adwqhKpZzxwQ\""
      ],
      "metadata": {
        "id": "N2D3AoPNH_dA"
      },
      "execution_count": null,
      "outputs": []
    },
    {
      "cell_type": "code",
      "source": [
        "def get_statistics(video_id):\n",
        "    # Gathering channel statistics\n",
        "    url_stats = \"https://www.googleapis.com/youtube/v3/videos?id=\"+video_id+\"&part=statistics&key=\"+API_KEY\n",
        "    response_stats = requests.get(url_stats).json()\n",
        "\n",
        "    view_count = response_stats['items'][0]['statistics']['viewCount']\n",
        "    like_count = response_stats['items'][0]['statistics']['likeCount']\n",
        "    comment_count = response_stats['items'][0]['statistics']['commentCount']\n",
        "\n",
        "    return view_count, like_count, comment_count"
      ],
      "metadata": {
        "id": "_F-LZsR6kwOj"
      },
      "execution_count": null,
      "outputs": []
    },
    {
      "cell_type": "code",
      "source": [
        "def get_videos(df):\n",
        "    pageToken = \"\"\n",
        "    while 1:\n",
        "        url = \"https://www.googleapis.com/youtube/v3/search?key=\"+API_KEY+\"&channelId=\"+CHANNEL_ID+\"&part=snippet,id&order=date&maxResults=10000&\"+pageToken\n",
        "\n",
        "        response = requests.get(url).json()\n",
        "        time.sleep(1)\n",
        "\n",
        "        for video in response['items']:\n",
        "            if video['id']['kind'] == \"youtube#video\":\n",
        "                video_id = video['id']['videoId']\n",
        "                video_title = video['snippet']['title']\n",
        "                upload = video['snippet']['publishTime']\n",
        "                upload_date = str(upload).split(\"T\")[0]\n",
        "                upload_time = str(upload).split(\"T\")[1]\n",
        "\n",
        "                view_count, like_count,comment_count = get_statistics(video_id)\n",
        "\n",
        "                # Save data to df\n",
        "                df = pd.concat([df, pd.DataFrame.from_records([{'video_id': video_id, 'video_title': video_title,\n",
        "                                'upload_date': upload_date, 'upload_time': upload_time,\n",
        "                                'view_count': view_count, 'like_count': like_count,\n",
        "                                'comment_count': comment_count}])], ignore_index= True)\n",
        "        try:\n",
        "            if response['nextPageToken'] != None:\n",
        "                pageToken = \"pageToken=\" + response['nextPageToken']\n",
        "\n",
        "        except:\n",
        "            break\n",
        "\n",
        "\n",
        "    return df\n",
        "\n"
      ],
      "metadata": {
        "id": "hSiPdelAIAkM"
      },
      "execution_count": null,
      "outputs": []
    },
    {
      "cell_type": "code",
      "source": [
        "# Build dataframe\n",
        "df = pd.DataFrame(columns=[\"video_id\",\"video_title\", \"upload_date\", \"upload_time\", \"view_count\",\n",
        "                           \"like_count\", \"comment_count\"])\n",
        "df = get_videos(df)"
      ],
      "metadata": {
        "id": "wcsHSwQSIBWg"
      },
      "execution_count": null,
      "outputs": []
    },
    {
      "cell_type": "code",
      "source": [
        "df2 = df.drop_duplicates(keep = 'first')"
      ],
      "metadata": {
        "id": "lgFZyeqoIBiD"
      },
      "execution_count": null,
      "outputs": []
    },
    {
      "cell_type": "code",
      "source": [
        "df2.to_csv('youtube_api.csv')"
      ],
      "metadata": {
        "id": "KI4K1OqvIBoc"
      },
      "execution_count": null,
      "outputs": []
    },
    {
      "cell_type": "code",
      "source": [
        "\n"
      ],
      "metadata": {
        "id": "lE4tQxzJICKX"
      },
      "execution_count": null,
      "outputs": []
    }
  ]
}