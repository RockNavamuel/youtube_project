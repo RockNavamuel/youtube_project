{
  "nbformat": 4,
  "nbformat_minor": 0,
  "metadata": {
    "colab": {
      "provenance": [],
      "authorship_tag": "ABX9TyNKNfUmIWefZCk4ODNx+9/q",
      "include_colab_link": true
    },
    "kernelspec": {
      "name": "python3",
      "display_name": "Python 3"
    },
    "language_info": {
      "name": "python"
    }
  },
  "cells": [
    {
      "cell_type": "markdown",
      "metadata": {
        "id": "view-in-github",
        "colab_type": "text"
      },
      "source": [
        "<a href=\"https://colab.research.google.com/github/RockNavamuel/youtube_project/blob/main/YouTube_DB_Transfer.ipynb\" target=\"_parent\"><img src=\"https://colab.research.google.com/assets/colab-badge.svg\" alt=\"Open In Colab\"/></a>"
      ]
    },
    {
      "cell_type": "code",
      "execution_count": null,
      "metadata": {
        "colab": {
          "base_uri": "https://localhost:8080/"
        },
        "id": "4HaikDj09qOS",
        "outputId": "9a02105d-c7fe-45a9-d827-ef595b9165b5"
      },
      "outputs": [
        {
          "output_type": "stream",
          "name": "stdout",
          "text": [
            "Requirement already satisfied: psycopg2 in /usr/local/lib/python3.10/dist-packages (2.9.6)\n"
          ]
        }
      ],
      "source": [
        "!pip install psycopg2\n",
        "import psycopg2 as ps\n",
        "import pandas as pd"
      ]
    },
    {
      "cell_type": "code",
      "source": [
        "def connect_to_db(endpoint, dbname, port, username, password):\n",
        "  try:\n",
        "    conn = ps.connect(host = endpoint, database = dbname, user = username, password = password, port = port)\n",
        "  except ps.OperationalError as e:\n",
        "    raise e\n",
        "  else:\n",
        "    print(\"Connected!\")\n",
        "\n",
        "  return conn"
      ],
      "metadata": {
        "id": "IAiXymno-gDe"
      },
      "execution_count": null,
      "outputs": []
    },
    {
      "cell_type": "code",
      "source": [
        "## DB credentials\n",
        "endpoint = 'XXXXX'\n",
        "dbname = 'postgres'\n",
        "port = '5432'\n",
        "username = 'postgres'\n",
        "password = 'XXXXX'\n",
        "conn = None\n",
        "\n",
        "conn = connect_to_db(endpoint, dbname, port, username, password)"
      ],
      "metadata": {
        "id": "eYFHYelT-f9r",
        "colab": {
          "base_uri": "https://localhost:8080/"
        },
        "outputId": "e02a04a1-4caf-4f2b-933f-33ec79bcd975"
      },
      "execution_count": null,
      "outputs": [
        {
          "output_type": "stream",
          "name": "stdout",
          "text": [
            "Connected!\n"
          ]
        }
      ]
    },
    {
      "cell_type": "code",
      "source": [
        "df = pd.read_csv('youtube_api.csv', index_col = 0)\n"
      ],
      "metadata": {
        "id": "EyPfJGkF-fwG"
      },
      "execution_count": null,
      "outputs": []
    },
    {
      "cell_type": "code",
      "source": [
        "## Create table\n",
        "def create_table(curr):\n",
        "    create_table_command = (\"\"\"CREATE TABLE IF NOT EXISTS videos (\n",
        "                    video_id VARCHAR(255) PRIMARY KEY,\n",
        "                    video_title TEXT NOT NULL,\n",
        "                    upload_date DATE NOT NULL DEFAULT CURRENT_DATE,\n",
        "                    upload_time VARCHAR(255) NOT NULL,\n",
        "                    view_count INTEGER NOT NULL,\n",
        "                    like_count INTEGER NOT NULL,\n",
        "                    comment_count INTEGER NOT NULL\n",
        "            )\"\"\")\n",
        "\n",
        "    curr.execute(create_table_command)\n",
        "\n",
        "## Check if video exists\n",
        "def check_if_video_exists(curr, video_id):\n",
        "  query = (\"\"\"SELECT video_id FROM VIDEOS WHERE video_id = %s\"\"\")\n",
        "  curr.execute(query, (video_id,))\n",
        "\n",
        "  return curr.fetchone() is not None\n",
        "\n",
        "## Update row\n",
        "def update_row(curr, video_id, video_title, view_count, like_count, comment_count):\n",
        "    query = (\"\"\"UPDATE videos\n",
        "            SET video_title = %s,\n",
        "                view_count = %s,\n",
        "                like_count = %s,\n",
        "                comment_count = %s\n",
        "            WHERE video_id = %s;\"\"\")\n",
        "    vars_to_update = (video_title, view_count, like_count, comment_count, video_id)\n",
        "    curr.execute(query, vars_to_update)\n",
        "\n",
        "## Handling updates to data\n",
        "def update_db(curr,df):\n",
        "  tmp_df = pd.DataFrame(columns = ['video_id','video_title','upload_date','upload_time','view_count', 'like_count', 'comment_count'])\n",
        "\n",
        "  for i, row in df.iterrows():\n",
        "      if check_if_video_exists(curr, row['video_id']):\n",
        "        update_row(curr, row['video_id'], row['video_title'], row['view_count'], row['like_count'], row['comment_count'])\n",
        "      else:\n",
        "        tmp_df = pd.concat([tmp_df, pd.DataFrame([row])], ignore_index=True)\n",
        "  return tmp_df\n",
        "\n",
        "\n",
        "## Insert\n",
        "def insert_into_table(curr, video_id, video_title, upload_date, upload_time, view_count, like_count, comment_count):\n",
        "    insert_into_videos = (\"\"\"INSERT INTO videos (video_id, video_title, upload_date, upload_time,\n",
        "                        view_count, like_count, comment_count) VALUES(%s,%s,%s,%s,%s,%s,%s);\"\"\")\n",
        "    row_to_insert = (video_id, video_title, upload_date, upload_time, view_count, like_count, comment_count)\n",
        "    curr.execute(insert_into_videos, row_to_insert)\n",
        "\n",
        "\n",
        "def append_from_df_to_db(curr,df):\n",
        "    for i, row in df.iterrows():\n",
        "        insert_into_table(curr, row['video_id'], row['video_title'], row['upload_date'], row['upload_time'],\n",
        "                          row['view_count'], row['like_count'], row['comment_count'])\n"
      ],
      "metadata": {
        "id": "wxtWHU4f-gIz"
      },
      "execution_count": null,
      "outputs": []
    },
    {
      "cell_type": "code",
      "source": [
        "curr = conn.cursor()"
      ],
      "metadata": {
        "id": "C3Vsu4U0-gLm"
      },
      "execution_count": null,
      "outputs": []
    },
    {
      "cell_type": "code",
      "source": [
        "## On first run, uncomment below:\n",
        "# create_table(curr)"
      ],
      "metadata": {
        "id": "DXaZ_2y--gQP"
      },
      "execution_count": null,
      "outputs": []
    },
    {
      "cell_type": "code",
      "source": [
        "new_vid_df = update_db(curr,df)"
      ],
      "metadata": {
        "id": "Z7_I_I4GEbbr"
      },
      "execution_count": null,
      "outputs": []
    },
    {
      "cell_type": "code",
      "source": [
        "## Data cleaning\n",
        "new_vid_df2 = new_vid_df.drop_duplicates(keep = 'first')"
      ],
      "metadata": {
        "id": "nP6-fbeIidnr"
      },
      "execution_count": null,
      "outputs": []
    },
    {
      "cell_type": "code",
      "source": [
        "append_from_df_to_db(curr,new_vid_df2)"
      ],
      "metadata": {
        "id": "5VTkHJCgEWRV"
      },
      "execution_count": null,
      "outputs": []
    },
    {
      "cell_type": "code",
      "source": [
        "conn.commit()"
      ],
      "metadata": {
        "id": "Ox7X9ug6-gSz"
      },
      "execution_count": null,
      "outputs": []
    },
    {
      "cell_type": "code",
      "source": [],
      "metadata": {
        "id": "kjVBK-PA-gdI"
      },
      "execution_count": null,
      "outputs": []
    },
    {
      "cell_type": "code",
      "source": [],
      "metadata": {
        "id": "zfYzCfpE-gfr"
      },
      "execution_count": null,
      "outputs": []
    }
  ]
}